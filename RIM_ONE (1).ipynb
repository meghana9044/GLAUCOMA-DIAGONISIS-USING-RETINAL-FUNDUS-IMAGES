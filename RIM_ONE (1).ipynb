{
  "cells": [
    {
      "cell_type": "code",
      "source": [
        "from google.colab import drive\n",
        "drive.mount('/content/drive')"
      ],
      "metadata": {
        "id": "p0j2TLQgm3x6",
        "outputId": "4adfd6f7-355b-4849-f94c-055a3716898d",
        "colab": {
          "base_uri": "https://localhost:8080/"
        }
      },
      "execution_count": null,
      "outputs": [
        {
          "output_type": "stream",
          "name": "stdout",
          "text": [
            "Mounted at /content/drive\n"
          ]
        }
      ]
    },
    {
      "cell_type": "markdown",
      "source": [
        "CNN"
      ],
      "metadata": {
        "id": "HVgYvy3X_T_9"
      }
    },
    {
      "cell_type": "code",
      "source": [
        "import numpy as np\n",
        "import cv2\n",
        "import os\n",
        "import zipfile\n",
        "from sklearn.model_selection import train_test_split\n",
        "from tensorflow.keras.utils import to_categorical\n",
        "from tensorflow.keras.preprocessing.image import load_img, img_to_array\n",
        "\n",
        "\n",
        "data_dir = '/content/drive/MyDrive/MINI/RIMONE'\n",
        "# Load the RIM-ONE dataset\n",
        "def load_images_and_labels(directory):\n",
        "    images = []\n",
        "    labels = []\n",
        "    for label in os.listdir(directory):\n",
        "        label_path = os.path.join(directory, label)\n",
        "        for image_filename in os.listdir(label_path):\n",
        "            img = load_img(os.path.join(label_path, image_filename), target_size=(224, 224))\n",
        "            img_array = img_to_array(img)\n",
        "            images.append(img_array)\n",
        "            if label.lower() == 'glaucoma':\n",
        "                labels.append(1)  # 1 for glaucoma\n",
        "            else:\n",
        "                labels.append(0)  # 0 for normal\n",
        "    return np.array(images), np.array(labels)\n",
        "\n",
        "\n",
        "train_data_dir = '/content/drive/MyDrive/MINI/RIMONE/Training'\n",
        "test_data_dir = '/content/drive/MyDrive/MINI/RIMONE/Testing'\n",
        "\n",
        "X_train, y_train = load_images_and_labels(train_data_dir)\n",
        "X_test, y_test = load_images_and_labels(test_data_dir)\n",
        "\n",
        "X_train = X_train / 255.0  # Normalize and add channel dimension\n",
        "X_test = X_test / 255.0\n",
        "\n",
        "# One-hot encode labels for CNN training\n",
        "y_train_cat = to_categorical(y_train)"
      ],
      "metadata": {
        "id": "MIswBSfCnE-X"
      },
      "execution_count": null,
      "outputs": []
    },
    {
      "cell_type": "code",
      "source": [
        "from tensorflow.keras.models import Sequential, Model\n",
        "from tensorflow.keras.layers import Conv2D, MaxPooling2D, Flatten, Dense, Dropout\n",
        "from tensorflow.keras.optimizers import Adam\n",
        "\n",
        "# Define the CNN model\n",
        "cnn = Sequential([\n",
        "    Conv2D(32, (3, 3), activation='relu', input_shape=(224, 224, 3)),\n",
        "    MaxPooling2D((2, 2)),\n",
        "    Conv2D(64, (3, 3), activation='relu'),\n",
        "    MaxPooling2D((2, 2)),\n",
        "    Conv2D(128, (3, 3), activation='relu'),\n",
        "    MaxPooling2D((2, 2)),\n",
        "    Flatten(),\n",
        "    Dense(256, activation='relu'),\n",
        "    Dropout(0.5),\n",
        "    Dense(len(np.unique(y_train)), activation='softmax')\n",
        "])\n",
        "\n",
        "cnn.compile(optimizer=Adam(), loss='categorical_crossentropy', metrics=['accuracy'])\n",
        "cnn.summary()\n",
        "\n",
        "# Train the CNN model\n",
        "cnn.fit(X_train, y_train_cat, epochs=25, validation_split=0.2)"
      ],
      "metadata": {
        "id": "sYbQsb-7o8aK",
        "outputId": "9cea4bf2-574c-4ff5-c39f-d332c986be36",
        "colab": {
          "base_uri": "https://localhost:8080/"
        }
      },
      "execution_count": null,
      "outputs": [
        {
          "output_type": "stream",
          "name": "stdout",
          "text": [
            "Model: \"sequential_2\"\n",
            "_________________________________________________________________\n",
            " Layer (type)                Output Shape              Param #   \n",
            "=================================================================\n",
            " conv2d_6 (Conv2D)           (None, 222, 222, 32)      896       \n",
            "                                                                 \n",
            " max_pooling2d_6 (MaxPoolin  (None, 111, 111, 32)      0         \n",
            " g2D)                                                            \n",
            "                                                                 \n",
            " conv2d_7 (Conv2D)           (None, 109, 109, 64)      18496     \n",
            "                                                                 \n",
            " max_pooling2d_7 (MaxPoolin  (None, 54, 54, 64)        0         \n",
            " g2D)                                                            \n",
            "                                                                 \n",
            " conv2d_8 (Conv2D)           (None, 52, 52, 128)       73856     \n",
            "                                                                 \n",
            " max_pooling2d_8 (MaxPoolin  (None, 26, 26, 128)       0         \n",
            " g2D)                                                            \n",
            "                                                                 \n",
            " flatten_2 (Flatten)         (None, 86528)             0         \n",
            "                                                                 \n",
            " dense_4 (Dense)             (None, 256)               22151424  \n",
            "                                                                 \n",
            " dropout_2 (Dropout)         (None, 256)               0         \n",
            "                                                                 \n",
            " dense_5 (Dense)             (None, 2)                 514       \n",
            "                                                                 \n",
            "=================================================================\n",
            "Total params: 22245186 (84.86 MB)\n",
            "Trainable params: 22245186 (84.86 MB)\n",
            "Non-trainable params: 0 (0.00 Byte)\n",
            "_________________________________________________________________\n",
            "Epoch 1/25\n",
            "8/8 [==============================] - 31s 4s/step - loss: 0.8247 - accuracy: 0.5282 - val_loss: 0.6484 - val_accuracy: 0.9841\n",
            "Epoch 2/25\n",
            "8/8 [==============================] - 28s 3s/step - loss: 0.6524 - accuracy: 0.6492 - val_loss: 0.5253 - val_accuracy: 0.9206\n",
            "Epoch 3/25\n",
            "8/8 [==============================] - 30s 4s/step - loss: 0.4924 - accuracy: 0.7621 - val_loss: 0.7891 - val_accuracy: 0.5397\n",
            "Epoch 4/25\n",
            "8/8 [==============================] - 29s 4s/step - loss: 0.3661 - accuracy: 0.8629 - val_loss: 0.8135 - val_accuracy: 0.5238\n",
            "Epoch 5/25\n",
            "8/8 [==============================] - 32s 4s/step - loss: 0.3111 - accuracy: 0.8669 - val_loss: 1.0474 - val_accuracy: 0.4762\n",
            "Epoch 6/25\n",
            "8/8 [==============================] - 29s 4s/step - loss: 0.3099 - accuracy: 0.8790 - val_loss: 0.6354 - val_accuracy: 0.6825\n",
            "Epoch 7/25\n",
            "8/8 [==============================] - 28s 4s/step - loss: 0.2343 - accuracy: 0.9194 - val_loss: 0.5288 - val_accuracy: 0.7460\n",
            "Epoch 8/25\n",
            "8/8 [==============================] - 28s 4s/step - loss: 0.2323 - accuracy: 0.9073 - val_loss: 0.4179 - val_accuracy: 0.7778\n",
            "Epoch 9/25\n",
            "8/8 [==============================] - 28s 3s/step - loss: 0.1996 - accuracy: 0.9153 - val_loss: 0.8125 - val_accuracy: 0.6667\n",
            "Epoch 10/25\n",
            "8/8 [==============================] - 30s 4s/step - loss: 0.2081 - accuracy: 0.9274 - val_loss: 0.3111 - val_accuracy: 0.8889\n",
            "Epoch 11/25\n",
            "8/8 [==============================] - 29s 4s/step - loss: 0.1907 - accuracy: 0.9435 - val_loss: 0.3488 - val_accuracy: 0.8571\n",
            "Epoch 12/25\n",
            "8/8 [==============================] - 31s 4s/step - loss: 0.1930 - accuracy: 0.9274 - val_loss: 0.5934 - val_accuracy: 0.6825\n",
            "Epoch 13/25\n",
            "8/8 [==============================] - 31s 4s/step - loss: 0.1624 - accuracy: 0.9395 - val_loss: 0.4075 - val_accuracy: 0.8413\n",
            "Epoch 14/25\n",
            "8/8 [==============================] - 28s 4s/step - loss: 0.1251 - accuracy: 0.9556 - val_loss: 0.4384 - val_accuracy: 0.8095\n",
            "Epoch 15/25\n",
            "8/8 [==============================] - 27s 3s/step - loss: 0.1372 - accuracy: 0.9556 - val_loss: 0.5338 - val_accuracy: 0.7619\n",
            "Epoch 16/25\n",
            "8/8 [==============================] - 28s 3s/step - loss: 0.0983 - accuracy: 0.9637 - val_loss: 0.3208 - val_accuracy: 0.8730\n",
            "Epoch 17/25\n",
            "8/8 [==============================] - 30s 4s/step - loss: 0.1020 - accuracy: 0.9597 - val_loss: 0.3975 - val_accuracy: 0.8413\n",
            "Epoch 18/25\n",
            "8/8 [==============================] - 28s 4s/step - loss: 0.1189 - accuracy: 0.9556 - val_loss: 0.2733 - val_accuracy: 0.8889\n",
            "Epoch 19/25\n",
            "8/8 [==============================] - 28s 4s/step - loss: 0.1505 - accuracy: 0.9355 - val_loss: 0.4164 - val_accuracy: 0.8571\n",
            "Epoch 20/25\n",
            "8/8 [==============================] - 27s 3s/step - loss: 0.1051 - accuracy: 0.9637 - val_loss: 0.4338 - val_accuracy: 0.9206\n",
            "Epoch 21/25\n",
            "8/8 [==============================] - 29s 3s/step - loss: 0.1107 - accuracy: 0.9637 - val_loss: 0.2899 - val_accuracy: 0.9206\n",
            "Epoch 22/25\n",
            "8/8 [==============================] - 28s 4s/step - loss: 0.0828 - accuracy: 0.9677 - val_loss: 0.5083 - val_accuracy: 0.8254\n",
            "Epoch 23/25\n",
            "8/8 [==============================] - 28s 4s/step - loss: 0.0616 - accuracy: 0.9798 - val_loss: 0.4095 - val_accuracy: 0.9206\n",
            "Epoch 24/25\n",
            "8/8 [==============================] - 31s 4s/step - loss: 0.0621 - accuracy: 0.9798 - val_loss: 0.6021 - val_accuracy: 0.7778\n",
            "Epoch 25/25\n",
            "8/8 [==============================] - 31s 4s/step - loss: 0.0475 - accuracy: 0.9798 - val_loss: 0.2041 - val_accuracy: 0.9206\n"
          ]
        },
        {
          "output_type": "execute_result",
          "data": {
            "text/plain": [
              "<keras.src.callbacks.History at 0x787944110250>"
            ]
          },
          "metadata": {},
          "execution_count": 9
        }
      ]
    },
    {
      "cell_type": "code",
      "source": [
        "cnn.evaluate(X_test, to_categorical(y_test))\n",
        "print(\"Accuracy:\" + str(cnn.evaluate(X_test, to_categorical(y_test))[1]))"
      ],
      "metadata": {
        "id": "VojmqZQVuguG",
        "outputId": "31713f7a-1fcd-4340-a76d-5a9c0d4a61af",
        "colab": {
          "base_uri": "https://localhost:8080/"
        }
      },
      "execution_count": null,
      "outputs": [
        {
          "output_type": "stream",
          "name": "stdout",
          "text": [
            "6/6 [==============================] - 5s 726ms/step - loss: 0.7658 - accuracy: 0.8103\n",
            "6/6 [==============================] - 4s 719ms/step - loss: 0.7658 - accuracy: 0.8103\n",
            "Accuracy:0.8103448152542114\n"
          ]
        },
        {
          "output_type": "stream",
          "name": "stderr",
          "text": [
            "/usr/local/lib/python3.10/dist-packages/keras/src/engine/training.py:3103: UserWarning: You are saving your model as an HDF5 file via `model.save()`. This file format is considered legacy. We recommend using instead the native Keras format, e.g. `model.save('my_model.keras')`.\n",
            "  saving_api.save_model(\n"
          ]
        }
      ]
    },
    {
      "cell_type": "markdown",
      "source": [
        "BiLSTM"
      ],
      "metadata": {
        "id": "d5p1Wx7h_NOB"
      }
    },
    {
      "cell_type": "code",
      "source": [
        "import numpy as np\n",
        "import cv2\n",
        "import os\n",
        "import zipfile\n",
        "from sklearn.model_selection import train_test_split\n",
        "from tensorflow.keras.utils import to_categorical\n",
        "from tensorflow.keras.preprocessing.image import load_img, img_to_array\n",
        "\n",
        "\n",
        "data_dir = '/content/drive/MyDrive/MINI/RIMONE'\n",
        "# Load the RIM-ONE dataset\n",
        "def load_images_and_labels(directory):\n",
        "    images = []\n",
        "    labels = []\n",
        "    for label in os.listdir(directory):\n",
        "        label_path = os.path.join(directory, label)\n",
        "        for image_filename in os.listdir(label_path):\n",
        "            img = load_img(os.path.join(label_path, image_filename), target_size=(224, 224))\n",
        "            img_array = img_to_array(img)\n",
        "            images.append(img_array)\n",
        "            if label.lower() == 'glaucoma':\n",
        "                labels.append(1)  # 1 for glaucoma\n",
        "            else:\n",
        "                labels.append(0)  # 0 for normal\n",
        "    return np.array(images), np.array(labels)\n",
        "\n",
        "\n",
        "train_data_dir = '/content/drive/MyDrive/MINI/RIMONE/Training'\n",
        "test_data_dir = '/content/drive/MyDrive/MINI/RIMONE/Testing'\n",
        "\n",
        "X_train_lstm, y_train_lstm = load_images_and_labels(train_data_dir)\n",
        "X_test_lstm, y_test_lstm = load_images_and_labels(test_data_dir)\n",
        "\n",
        "X_train_lstm = X_train_lstm / 255.0  # Normalize and add channel dimension\n",
        "X_test_lstm = X_test_lstm / 255.0\n",
        "\n",
        "# One-hot encode labels for CNN training\n",
        "y_train_cat = to_categorical(y_train_lstm)"
      ],
      "metadata": {
        "id": "oLnlcQc-21BX"
      },
      "execution_count": null,
      "outputs": []
    },
    {
      "cell_type": "code",
      "source": [
        "X_train_flattened = X_train_lstm.reshape(X_train_lstm.shape[0], X_train_lstm.shape[1], -1)\n",
        "X_test_flattened = X_test_lstm.reshape(X_test_lstm.shape[0], X_test_lstm.shape[1], -1)"
      ],
      "metadata": {
        "id": "yWuX6ZjctYMI"
      },
      "execution_count": null,
      "outputs": []
    },
    {
      "cell_type": "code",
      "source": [
        "from tensorflow.keras.models import Sequential\n",
        "from tensorflow.keras.layers import Bidirectional, LSTM, Dense, Dropout\n",
        "\n",
        "# Build BiLSTM model\n",
        "model = Sequential([\n",
        "    Bidirectional(LSTM(64, return_sequences=True), input_shape=(X_train_flattened.shape[1], X_train_flattened.shape[2])),\n",
        "    Dropout(0.5),\n",
        "    LSTM(32),\n",
        "    Dropout(0.5),\n",
        "    Dense(1, activation='sigmoid')\n",
        "])\n",
        "\n",
        "# Compile the model\n",
        "model.compile(optimizer='adam', loss='binary_crossentropy', metrics=['accuracy'])\n",
        "\n",
        "# Train the model\n",
        "history = model.fit(X_train_flattened, y_train_lstm, epochs=25, batch_size=32, validation_data=(X_test_flattened, y_test_lstm))"
      ],
      "metadata": {
        "id": "sB0-OefttfvB",
        "outputId": "a8ccd598-c470-4a05-d0c5-8de5a50fd5a9",
        "colab": {
          "base_uri": "https://localhost:8080/"
        }
      },
      "execution_count": null,
      "outputs": [
        {
          "output_type": "stream",
          "name": "stdout",
          "text": [
            "Epoch 1/25\n",
            "10/10 [==============================] - 14s 779ms/step - loss: 0.6667 - accuracy: 0.5949 - val_loss: 0.6340 - val_accuracy: 0.6782\n",
            "Epoch 2/25\n",
            "10/10 [==============================] - 8s 789ms/step - loss: 0.6900 - accuracy: 0.6174 - val_loss: 0.6340 - val_accuracy: 0.6782\n",
            "Epoch 3/25\n",
            "10/10 [==============================] - 7s 633ms/step - loss: 0.6788 - accuracy: 0.5949 - val_loss: 0.6381 - val_accuracy: 0.6782\n",
            "Epoch 4/25\n",
            "10/10 [==============================] - 7s 745ms/step - loss: 0.6670 - accuracy: 0.6206 - val_loss: 0.6304 - val_accuracy: 0.6782\n",
            "Epoch 5/25\n",
            "10/10 [==============================] - 7s 704ms/step - loss: 0.6603 - accuracy: 0.6367 - val_loss: 0.6338 - val_accuracy: 0.6782\n",
            "Epoch 6/25\n",
            "10/10 [==============================] - 8s 788ms/step - loss: 0.6660 - accuracy: 0.6334 - val_loss: 0.6361 - val_accuracy: 0.6782\n",
            "Epoch 7/25\n",
            "10/10 [==============================] - 7s 690ms/step - loss: 0.6530 - accuracy: 0.6495 - val_loss: 0.6361 - val_accuracy: 0.6782\n",
            "Epoch 8/25\n",
            "10/10 [==============================] - 7s 714ms/step - loss: 0.6641 - accuracy: 0.6334 - val_loss: 0.6310 - val_accuracy: 0.6782\n",
            "Epoch 9/25\n",
            "10/10 [==============================] - 9s 862ms/step - loss: 0.6542 - accuracy: 0.6431 - val_loss: 0.6322 - val_accuracy: 0.6782\n",
            "Epoch 10/25\n",
            "10/10 [==============================] - 7s 754ms/step - loss: 0.6545 - accuracy: 0.6527 - val_loss: 0.6364 - val_accuracy: 0.6782\n",
            "Epoch 11/25\n",
            "10/10 [==============================] - 7s 673ms/step - loss: 0.6448 - accuracy: 0.6334 - val_loss: 0.6326 - val_accuracy: 0.6782\n",
            "Epoch 12/25\n",
            "10/10 [==============================] - 7s 677ms/step - loss: 0.6510 - accuracy: 0.6559 - val_loss: 0.6351 - val_accuracy: 0.6782\n",
            "Epoch 13/25\n",
            "10/10 [==============================] - 8s 776ms/step - loss: 0.6328 - accuracy: 0.6527 - val_loss: 0.6419 - val_accuracy: 0.6782\n",
            "Epoch 14/25\n",
            "10/10 [==============================] - 6s 632ms/step - loss: 0.6483 - accuracy: 0.6334 - val_loss: 0.6405 - val_accuracy: 0.6782\n",
            "Epoch 15/25\n",
            "10/10 [==============================] - 8s 796ms/step - loss: 0.6414 - accuracy: 0.6559 - val_loss: 0.6386 - val_accuracy: 0.6782\n",
            "Epoch 16/25\n",
            "10/10 [==============================] - 6s 643ms/step - loss: 0.6602 - accuracy: 0.6367 - val_loss: 0.6385 - val_accuracy: 0.6782\n",
            "Epoch 17/25\n",
            "10/10 [==============================] - 9s 877ms/step - loss: 0.6457 - accuracy: 0.6431 - val_loss: 0.6394 - val_accuracy: 0.6782\n",
            "Epoch 18/25\n",
            "10/10 [==============================] - 6s 646ms/step - loss: 0.6511 - accuracy: 0.6431 - val_loss: 0.6405 - val_accuracy: 0.6782\n",
            "Epoch 19/25\n",
            "10/10 [==============================] - 9s 896ms/step - loss: 0.6277 - accuracy: 0.6559 - val_loss: 0.6414 - val_accuracy: 0.6782\n",
            "Epoch 20/25\n",
            "10/10 [==============================] - 6s 612ms/step - loss: 0.6378 - accuracy: 0.6431 - val_loss: 0.6476 - val_accuracy: 0.6782\n",
            "Epoch 21/25\n",
            "10/10 [==============================] - 9s 892ms/step - loss: 0.6299 - accuracy: 0.6527 - val_loss: 0.6491 - val_accuracy: 0.6897\n",
            "Epoch 22/25\n",
            "10/10 [==============================] - 8s 863ms/step - loss: 0.6319 - accuracy: 0.6624 - val_loss: 0.6440 - val_accuracy: 0.6839\n",
            "Epoch 23/25\n",
            "10/10 [==============================] - 10s 1s/step - loss: 0.6399 - accuracy: 0.6688 - val_loss: 0.6520 - val_accuracy: 0.6724\n",
            "Epoch 24/25\n",
            "10/10 [==============================] - 8s 783ms/step - loss: 0.6175 - accuracy: 0.6624 - val_loss: 0.6714 - val_accuracy: 0.6264\n",
            "Epoch 25/25\n",
            "10/10 [==============================] - 7s 690ms/step - loss: 0.6402 - accuracy: 0.6624 - val_loss: 0.6458 - val_accuracy: 0.6782\n"
          ]
        }
      ]
    },
    {
      "cell_type": "code",
      "source": [
        "model.evaluate(X_test_flattened, y_test_lstm)\n",
        "print(\"Accuracy:\" + str(model.evaluate(X_test_flattened, y_test_lstm)[1]))\n",
        "model.save('bilstm_model.h5')"
      ],
      "metadata": {
        "id": "g24JS6_bu_39",
        "outputId": "9d1807be-9ef3-46bd-c582-e75600f86e0a",
        "colab": {
          "base_uri": "https://localhost:8080/"
        }
      },
      "execution_count": null,
      "outputs": [
        {
          "output_type": "stream",
          "name": "stdout",
          "text": [
            "6/6 [==============================] - 1s 164ms/step - loss: 0.6458 - accuracy: 0.6782\n",
            "6/6 [==============================] - 1s 164ms/step - loss: 0.6458 - accuracy: 0.6782\n",
            "Accuracy:0.6781609058380127\n"
          ]
        },
        {
          "output_type": "stream",
          "name": "stderr",
          "text": [
            "/usr/local/lib/python3.10/dist-packages/keras/src/engine/training.py:3103: UserWarning: You are saving your model as an HDF5 file via `model.save()`. This file format is considered legacy. We recommend using instead the native Keras format, e.g. `model.save('my_model.keras')`.\n",
            "  saving_api.save_model(\n"
          ]
        }
      ]
    },
    {
      "cell_type": "code",
      "source": [
        "import matplotlib.pyplot as plt\n",
        "plt.plot(history.history['accuracy'])\n",
        "plt.plot(history.history['val_accuracy'])\n",
        "plt.title('Model Accuracy')\n",
        "plt.ylabel('Accuracy')\n",
        "plt.xlabel('Epoch')"
      ],
      "metadata": {
        "id": "kC70-ENAkxlI",
        "outputId": "75d174a5-743a-4664-dc00-011b2e333846",
        "colab": {
          "base_uri": "https://localhost:8080/",
          "height": 490
        }
      },
      "execution_count": null,
      "outputs": [
        {
          "output_type": "execute_result",
          "data": {
            "text/plain": [
              "Text(0.5, 0, 'Epoch')"
            ]
          },
          "metadata": {},
          "execution_count": 93
        },
        {
          "output_type": "display_data",
          "data": {
            "text/plain": [
              "<Figure size 640x480 with 1 Axes>"
            ],
            "image/png": "[encoded data removed]"
          },
          "metadata": {}
        }
      ]
    },
    {
      "cell_type": "markdown",
      "source": [
        "COMINED CNN + BiLSTM"
      ],
      "metadata": {
        "id": "OOnWwqqB_F4m"
      }
    },
    {
      "cell_type": "code",
      "source": [
        "from tensorflow.keras.layers import Concatenate\n",
        "\n",
        "# Combine the outputs of the two models\n",
        "combined_input = Concatenate()([cnn.output, model.output])\n",
        "\n",
        "# Add a dense layer for the final classification\n",
        "x = Dense(64, activation='relu')(combined_input)\n",
        "x = Dense(1, activation='sigmoid')(x)\n",
        "\n",
        "# Final hybrid model\n",
        "\n",
        "\n",
        "hybrid_model = Model(inputs=[cnn.input, model.input], outputs=x)\n",
        "hybrid_model.compile(optimizer='adam', loss='binary_crossentropy', metrics=['accuracy'])\n",
        "hist= hybrid_model.fit([X_train, X_train_flattened], y_train, epochs=19, batch_size=32, validation_data=([X_test, X_test_flattened], y_test))\n",
        "\n"
      ],
      "metadata": {
        "id": "ifuidEPc5h9J",
        "outputId": "1b4b10ea-b708-4bae-e596-55a6e38658d2",
        "colab": {
          "base_uri": "https://localhost:8080/"
        }
      },
      "execution_count": null,
      "outputs": [
        {
          "output_type": "stream",
          "name": "stdout",
          "text": [
            "Epoch 1/19\n",
            "10/10 [==============================] - 59s 5s/step - loss: 0.6864 - accuracy: 0.6013 - val_loss: 0.6656 - val_accuracy: 0.7701\n",
            "Epoch 2/19\n",
            "10/10 [==============================] - 48s 5s/step - loss: 0.6308 - accuracy: 0.9003 - val_loss: 0.6233 - val_accuracy: 0.7989\n",
            "Epoch 3/19\n",
            "10/10 [==============================] - 48s 5s/step - loss: 0.5822 - accuracy: 0.9100 - val_loss: 0.5958 - val_accuracy: 0.7874\n",
            "Epoch 4/19\n",
            "10/10 [==============================] - 50s 5s/step - loss: 0.5400 - accuracy: 0.9228 - val_loss: 0.5721 - val_accuracy: 0.7816\n",
            "Epoch 5/19\n",
            "10/10 [==============================] - 51s 5s/step - loss: 0.5109 - accuracy: 0.9132 - val_loss: 0.5451 - val_accuracy: 0.8046\n",
            "Epoch 6/19\n",
            "10/10 [==============================] - 48s 5s/step - loss: 0.4844 - accuracy: 0.9100 - val_loss: 0.5346 - val_accuracy: 0.7989\n",
            "Epoch 7/19\n",
            "10/10 [==============================] - 48s 5s/step - loss: 0.4461 - accuracy: 0.9293 - val_loss: 0.5219 - val_accuracy: 0.7874\n",
            "Epoch 8/19\n",
            "10/10 [==============================] - 49s 5s/step - loss: 0.4380 - accuracy: 0.9068 - val_loss: 0.5363 - val_accuracy: 0.7701\n",
            "Epoch 9/19\n",
            "10/10 [==============================] - 50s 5s/step - loss: 0.4139 - accuracy: 0.9100 - val_loss: 0.4962 - val_accuracy: 0.7874\n",
            "Epoch 10/19\n",
            "10/10 [==============================] - 48s 5s/step - loss: 0.4141 - accuracy: 0.8842 - val_loss: 0.4963 - val_accuracy: 0.7759\n",
            "Epoch 11/19\n",
            "10/10 [==============================] - 48s 5s/step - loss: 0.3923 - accuracy: 0.9035 - val_loss: 0.5140 - val_accuracy: 0.7931\n",
            "Epoch 12/19\n",
            "10/10 [==============================] - 49s 5s/step - loss: 0.4240 - accuracy: 0.8746 - val_loss: 0.5153 - val_accuracy: 0.7931\n",
            "Epoch 13/19\n",
            "10/10 [==============================] - 50s 5s/step - loss: 0.4352 - accuracy: 0.8553 - val_loss: 0.5013 - val_accuracy: 0.7989\n",
            "Epoch 14/19\n",
            "10/10 [==============================] - 47s 5s/step - loss: 0.4363 - accuracy: 0.8521 - val_loss: 0.5086 - val_accuracy: 0.7931\n",
            "Epoch 15/19\n",
            "10/10 [==============================] - 48s 5s/step - loss: 0.3758 - accuracy: 0.8939 - val_loss: 0.5350 - val_accuracy: 0.7759\n",
            "Epoch 16/19\n",
            "10/10 [==============================] - 49s 5s/step - loss: 0.3764 - accuracy: 0.8875 - val_loss: 0.5752 - val_accuracy: 0.7471\n",
            "Epoch 17/19\n",
            "10/10 [==============================] - 50s 5s/step - loss: 0.3626 - accuracy: 0.8875 - val_loss: 0.4976 - val_accuracy: 0.7931\n",
            "Epoch 18/19\n",
            "10/10 [==============================] - 49s 5s/step - loss: 0.3762 - accuracy: 0.8810 - val_loss: 0.4955 - val_accuracy: 0.7989\n",
            "Epoch 19/19\n",
            "10/10 [==============================] - 48s 5s/step - loss: 0.2959 - accuracy: 0.9260 - val_loss: 0.4528 - val_accuracy: 0.8161\n"
          ]
        }
      ]
    },
    {
      "cell_type": "code",
      "source": [
        "print(\"Accuracy:\", hist.history['accuracy'][-1])\n",
        "print(\"Loss:\", hist.history['loss'][-1])"
      ],
      "metadata": {
        "id": "RToFk53DWQAL",
        "outputId": "41f9e1ff-6b9e-4c0e-9e38-6f9fb232dc5f",
        "colab": {
          "base_uri": "https://localhost:8080/"
        }
      },
      "execution_count": null,
      "outputs": [
        {
          "output_type": "stream",
          "name": "stdout",
          "text": [
            "Accuracy: 0.9260450005531311\n",
            "Loss: 0.2959305942058563\n"
          ]
        }
      ]
    },
    {
      "cell_type": "code",
      "source": [
        "import matplotlib.pyplot as plt\n",
        "plt.plot(hist.history['accuracy'])\n",
        "plt.plot(hist.history['val_accuracy'])\n",
        "plt.title('Model Accuracy')\n",
        "plt.ylabel('Accuracy')\n",
        "plt.xlabel('Epoch')\n",
        "plt.legend(['train', 'val'], loc='upper left')\n",
        "plt.show()"
      ],
      "metadata": {
        "id": "vRJm6s5hex2j",
        "outputId": "9d21d12d-1211-4d26-af39-42cd0180ce1f",
        "colab": {
          "base_uri": "https://localhost:8080/",
          "height": 472
        }
      },
      "execution_count": null,
      "outputs": [
        {
          "output_type": "display_data",
          "data": {
            "text/plain": [
              "<Figure size 640x480 with 1 Axes>"
            ],
            "image/png": "[encoded data removed]"
          },
          "metadata": {}
        }
      ]
    }
  ],
  "metadata": {
    "colab": {
      "provenance": []
    },
    "kernelspec": {
      "display_name": "Python 3",
      "name": "python3"
    }
  },
  "nbformat": 4,
  "nbformat_minor": 0
}