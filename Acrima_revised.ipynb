{
  "cells": [
    {
      "cell_type": "code",
      "source": [
        "pip install streamlit numpy opencv-python scikit-learn tensorflow"
      ],
      "metadata": {
        "colab": {
          "base_uri": "https://localhost:8080/"
        },
        "id": "AckHPSuegA6I",
        "outputId": "95404ae2-1bca-4f88-fbee-66f5274266a4"
      },
      "execution_count": null,
      "outputs": [
        {
          "output_type": "stream",
          "name": "stdout",
          "text": [
            "Collecting streamlit\n",
            "  Downloading streamlit-1.36.0-py2.py3-none-any.whl (8.6 MB)\n",
            "\u001b[2K     \u001b[90m━━━━━━━━━━━━━━━━━━━━━━━━━━━━━━━━━━━━━━━━\u001b[0m \u001b[32m8.6/8.6 MB\u001b[0m \u001b[31m21.5 MB/s\u001b[0m eta \u001b[36m0:00:00\u001b[0m\n",
            "\u001b[?25hRequirement already satisfied: numpy in /usr/local/lib/python3.10/dist-packages (1.25.2)\n",
            "Requirement already satisfied: opencv-python in /usr/local/lib/python3.10/dist-packages (4.8.0.76)\n",
            "Requirement already satisfied: scikit-learn in /usr/local/lib/python3.10/dist-packages (1.2.2)\n",
            "Requirement already satisfied: tensorflow in /usr/local/lib/python3.10/dist-packages (2.15.0)\n",
            "Requirement already satisfied: altair<6,>=4.0 in /usr/local/lib/python3.10/dist-packages (from streamlit) (4.2.2)\n",
            "Requirement already satisfied: blinker<2,>=1.0.0 in /usr/lib/python3/dist-packages (from streamlit) (1.4)\n",
            "Requirement already satisfied: cachetools<6,>=4.0 in /usr/local/lib/python3.10/dist-packages (from streamlit) (5.3.3)\n",
            "Requirement already satisfied: click<9,>=7.0 in /usr/local/lib/python3.10/dist-packages (from streamlit) (8.1.7)\n",
            "Requirement already satisfied: packaging<25,>=20 in /usr/local/lib/python3.10/dist-packages (from streamlit) (24.1)\n",
            "Requirement already satisfied: pandas<3,>=1.3.0 in /usr/local/lib/python3.10/dist-packages (from streamlit) (2.0.3)\n",
            "Requirement already satisfied: pillow<11,>=7.1.0 in /usr/local/lib/python3.10/dist-packages (from streamlit) (9.4.0)\n",
            "Requirement already satisfied: protobuf<6,>=3.20 in /usr/local/lib/python3.10/dist-packages (from streamlit) (3.20.3)\n",
            "Requirement already satisfied: pyarrow>=7.0 in /usr/local/lib/python3.10/dist-packages (from streamlit) (14.0.2)\n",
            "Requirement already satisfied: requests<3,>=2.27 in /usr/local/lib/python3.10/dist-packages (from streamlit) (2.31.0)\n",
            "Requirement already satisfied: rich<14,>=10.14.0 in /usr/local/lib/python3.10/dist-packages (from streamlit) (13.7.1)\n",
            "Requirement already satisfied: tenacity<9,>=8.1.0 in /usr/local/lib/python3.10/dist-packages (from streamlit) (8.4.1)\n",
            "Requirement already satisfied: toml<2,>=0.10.1 in /usr/local/lib/python3.10/dist-packages (from streamlit) (0.10.2)\n",
            "Requirement already satisfied: typing-extensions<5,>=4.3.0 in /usr/local/lib/python3.10/dist-packages (from streamlit) (4.12.2)\n",
            "Collecting gitpython!=3.1.19,<4,>=3.0.7 (from streamlit)\n",
            "  Downloading GitPython-3.1.43-py3-none-any.whl (207 kB)\n",
            "\u001b[2K     \u001b[90m━━━━━━━━━━━━━━━━━━━━━━━━━━━━━━━━━━━━━━━━\u001b[0m \u001b[32m207.3/207.3 kB\u001b[0m \u001b[31m17.7 MB/s\u001b[0m eta \u001b[36m0:00:00\u001b[0m\n",
            "\u001b[?25hCollecting pydeck<1,>=0.8.0b4 (from streamlit)\n",
            "  Downloading pydeck-0.9.1-py2.py3-none-any.whl (6.9 MB)\n",
            "\u001b[2K     \u001b[90m━━━━━━━━━━━━━━━━━━━━━━━━━━━━━━━━━━━━━━━━\u001b[0m \u001b[32m6.9/6.9 MB\u001b[0m \u001b[31m54.6 MB/s\u001b[0m eta \u001b[36m0:00:00\u001b[0m\n",
            "\u001b[?25hRequirement already satisfied: tornado<7,>=6.0.3 in /usr/local/lib/python3.10/dist-packages (from streamlit) (6.3.3)\n",
            "Collecting watchdog<5,>=2.1.5 (from streamlit)\n",
            "  Downloading watchdog-4.0.1-py3-none-manylinux2014_x86_64.whl (83 kB)\n",
            "\u001b[2K     \u001b[90m━━━━━━━━━━━━━━━━━━━━━━━━━━━━━━━━━━━━━━━━\u001b[0m \u001b[32m83.0/83.0 kB\u001b[0m \u001b[31m9.7 MB/s\u001b[0m eta \u001b[36m0:00:00\u001b[0m\n",
            "\u001b[?25hRequirement already satisfied: scipy>=1.3.2 in /usr/local/lib/python3.10/dist-packages (from scikit-learn) (1.11.4)\n",
            "Requirement already satisfied: joblib>=1.1.1 in /usr/local/lib/python3.10/dist-packages (from scikit-learn) (1.4.2)\n",
            "Requirement already satisfied: threadpoolctl>=2.0.0 in /usr/local/lib/python3.10/dist-packages (from scikit-learn) (3.5.0)\n",
            "Requirement already satisfied: absl-py>=1.0.0 in /usr/local/lib/python3.10/dist-packages (from tensorflow) (1.4.0)\n",
            "Requirement already satisfied: astunparse>=1.6.0 in /usr/local/lib/python3.10/dist-packages (from tensorflow) (1.6.3)\n",
            "Requirement already satisfied: flatbuffers>=23.5.26 in /usr/local/lib/python3.10/dist-packages (from tensorflow) (24.3.25)\n",
            "Requirement already satisfied: gast!=0.5.0,!=0.5.1,!=0.5.2,>=0.2.1 in /usr/local/lib/python3.10/dist-packages (from tensorflow) (0.5.4)\n",
            "Requirement already satisfied: google-pasta>=0.1.1 in /usr/local/lib/python3.10/dist-packages (from tensorflow) (0.2.0)\n",
            "Requirement already satisfied: h5py>=2.9.0 in /usr/local/lib/python3.10/dist-packages (from tensorflow) (3.9.0)\n",
            "Requirement already satisfied: libclang>=13.0.0 in /usr/local/lib/python3.10/dist-packages (from tensorflow) (18.1.1)\n",
            "Requirement already satisfied: ml-dtypes~=0.2.0 in /usr/local/lib/python3.10/dist-packages (from tensorflow) (0.2.0)\n",
            "Requirement already satisfied: opt-einsum>=2.3.2 in /usr/local/lib/python3.10/dist-packages (from tensorflow) (3.3.0)\n",
            "Requirement already satisfied: setuptools in /usr/local/lib/python3.10/dist-packages (from tensorflow) (67.7.2)\n",
            "Requirement already satisfied: six>=1.12.0 in /usr/local/lib/python3.10/dist-packages (from tensorflow) (1.16.0)\n",
            "Requirement already satisfied: termcolor>=1.1.0 in /usr/local/lib/python3.10/dist-packages (from tensorflow) (2.4.0)\n",
            "Requirement already satisfied: wrapt<1.15,>=1.11.0 in /usr/local/lib/python3.10/dist-packages (from tensorflow) (1.14.1)\n",
            "Requirement already satisfied: tensorflow-io-gcs-filesystem>=0.23.1 in /usr/local/lib/python3.10/dist-packages (from tensorflow) (0.37.0)\n",
            "Requirement already satisfied: grpcio<2.0,>=1.24.3 in /usr/local/lib/python3.10/dist-packages (from tensorflow) (1.64.1)\n",
            "Requirement already satisfied: tensorboard<2.16,>=2.15 in /usr/local/lib/python3.10/dist-packages (from tensorflow) (2.15.2)\n",
            "Requirement already satisfied: tensorflow-estimator<2.16,>=2.15.0 in /usr/local/lib/python3.10/dist-packages (from tensorflow) (2.15.0)\n",
            "Requirement already satisfied: keras<2.16,>=2.15.0 in /usr/local/lib/python3.10/dist-packages (from tensorflow) (2.15.0)\n",
            "Requirement already satisfied: entrypoints in /usr/local/lib/python3.10/dist-packages (from altair<6,>=4.0->streamlit) (0.4)\n",
            "Requirement already satisfied: jinja2 in /usr/local/lib/python3.10/dist-packages (from altair<6,>=4.0->streamlit) (3.1.4)\n",
            "Requirement already satisfied: jsonschema>=3.0 in /usr/local/lib/python3.10/dist-packages (from altair<6,>=4.0->streamlit) (4.19.2)\n",
            "Requirement already satisfied: toolz in /usr/local/lib/python3.10/dist-packages (from altair<6,>=4.0->streamlit) (0.12.1)\n",
            "Requirement already satisfied: wheel<1.0,>=0.23.0 in /usr/local/lib/python3.10/dist-packages (from astunparse>=1.6.0->tensorflow) (0.43.0)\n",
            "Collecting gitdb<5,>=4.0.1 (from gitpython!=3.1.19,<4,>=3.0.7->streamlit)\n",
            "  Downloading gitdb-4.0.11-py3-none-any.whl (62 kB)\n",
            "\u001b[2K     \u001b[90m━━━━━━━━━━━━━━━━━━━━━━━━━━━━━━━━━━━━━━━━\u001b[0m \u001b[32m62.7/62.7 kB\u001b[0m \u001b[31m6.1 MB/s\u001b[0m eta \u001b[36m0:00:00\u001b[0m\n",
            "\u001b[?25hRequirement already satisfied: python-dateutil>=2.8.2 in /usr/local/lib/python3.10/dist-packages (from pandas<3,>=1.3.0->streamlit) (2.8.2)\n",
            "Requirement already satisfied: pytz>=2020.1 in /usr/local/lib/python3.10/dist-packages (from pandas<3,>=1.3.0->streamlit) (2023.4)\n",
            "Requirement already satisfied: tzdata>=2022.1 in /usr/local/lib/python3.10/dist-packages (from pandas<3,>=1.3.0->streamlit) (2024.1)\n",
            "Requirement already satisfied: charset-normalizer<4,>=2 in /usr/local/lib/python3.10/dist-packages (from requests<3,>=2.27->streamlit) (3.3.2)\n",
            "Requirement already satisfied: idna<4,>=2.5 in /usr/local/lib/python3.10/dist-packages (from requests<3,>=2.27->streamlit) (3.7)\n",
            "Requirement already satisfied: urllib3<3,>=1.21.1 in /usr/local/lib/python3.10/dist-packages (from requests<3,>=2.27->streamlit) (2.0.7)\n",
            "Requirement already satisfied: certifi>=2017.4.17 in /usr/local/lib/python3.10/dist-packages (from requests<3,>=2.27->streamlit) (2024.6.2)\n",
            "Requirement already satisfied: markdown-it-py>=2.2.0 in /usr/local/lib/python3.10/dist-packages (from rich<14,>=10.14.0->streamlit) (3.0.0)\n",
            "Requirement already satisfied: pygments<3.0.0,>=2.13.0 in /usr/local/lib/python3.10/dist-packages (from rich<14,>=10.14.0->streamlit) (2.16.1)\n",
            "Requirement already satisfied: google-auth<3,>=1.6.3 in /usr/local/lib/python3.10/dist-packages (from tensorboard<2.16,>=2.15->tensorflow) (2.27.0)\n",
            "Requirement already satisfied: google-auth-oauthlib<2,>=0.5 in /usr/local/lib/python3.10/dist-packages (from tensorboard<2.16,>=2.15->tensorflow) (1.2.0)\n",
            "Requirement already satisfied: markdown>=2.6.8 in /usr/local/lib/python3.10/dist-packages (from tensorboard<2.16,>=2.15->tensorflow) (3.6)\n",
            "Requirement already satisfied: tensorboard-data-server<0.8.0,>=0.7.0 in /usr/local/lib/python3.10/dist-packages (from tensorboard<2.16,>=2.15->tensorflow) (0.7.2)\n",
            "Requirement already satisfied: werkzeug>=1.0.1 in /usr/local/lib/python3.10/dist-packages (from tensorboard<2.16,>=2.15->tensorflow) (3.0.3)\n",
            "Collecting smmap<6,>=3.0.1 (from gitdb<5,>=4.0.1->gitpython!=3.1.19,<4,>=3.0.7->streamlit)\n",
            "  Downloading smmap-5.0.1-py3-none-any.whl (24 kB)\n",
            "Requirement already satisfied: pyasn1-modules>=0.2.1 in /usr/local/lib/python3.10/dist-packages (from google-auth<3,>=1.6.3->tensorboard<2.16,>=2.15->tensorflow) (0.4.0)\n",
            "Requirement already satisfied: rsa<5,>=3.1.4 in /usr/local/lib/python3.10/dist-packages (from google-auth<3,>=1.6.3->tensorboard<2.16,>=2.15->tensorflow) (4.9)\n",
            "Requirement already satisfied: requests-oauthlib>=0.7.0 in /usr/local/lib/python3.10/dist-packages (from google-auth-oauthlib<2,>=0.5->tensorboard<2.16,>=2.15->tensorflow) (1.3.1)\n",
            "Requirement already satisfied: MarkupSafe>=2.0 in /usr/local/lib/python3.10/dist-packages (from jinja2->altair<6,>=4.0->streamlit) (2.1.5)\n",
            "Requirement already satisfied: attrs>=22.2.0 in /usr/local/lib/python3.10/dist-packages (from jsonschema>=3.0->altair<6,>=4.0->streamlit) (23.2.0)\n",
            "Requirement already satisfied: jsonschema-specifications>=2023.03.6 in /usr/local/lib/python3.10/dist-packages (from jsonschema>=3.0->altair<6,>=4.0->streamlit) (2023.12.1)\n",
            "Requirement already satisfied: referencing>=0.28.4 in /usr/local/lib/python3.10/dist-packages (from jsonschema>=3.0->altair<6,>=4.0->streamlit) (0.35.1)\n",
            "Requirement already satisfied: rpds-py>=0.7.1 in /usr/local/lib/python3.10/dist-packages (from jsonschema>=3.0->altair<6,>=4.0->streamlit) (0.18.1)\n",
            "Requirement already satisfied: mdurl~=0.1 in /usr/local/lib/python3.10/dist-packages (from markdown-it-py>=2.2.0->rich<14,>=10.14.0->streamlit) (0.1.2)\n",
            "Requirement already satisfied: pyasn1<0.7.0,>=0.4.6 in /usr/local/lib/python3.10/dist-packages (from pyasn1-modules>=0.2.1->google-auth<3,>=1.6.3->tensorboard<2.16,>=2.15->tensorflow) (0.6.0)\n",
            "Requirement already satisfied: oauthlib>=3.0.0 in /usr/local/lib/python3.10/dist-packages (from requests-oauthlib>=0.7.0->google-auth-oauthlib<2,>=0.5->tensorboard<2.16,>=2.15->tensorflow) (3.2.2)\n",
            "Installing collected packages: watchdog, smmap, pydeck, gitdb, gitpython, streamlit\n",
            "Successfully installed gitdb-4.0.11 gitpython-3.1.43 pydeck-0.9.1 smmap-5.0.1 streamlit-1.36.0 watchdog-4.0.1\n"
          ]
        }
      ]
    },
    {
      "cell_type": "code",
      "source": [
        "from google.colab import drive\n",
        "drive.mount('/content/drive')"
      ],
      "metadata": {
        "colab": {
          "base_uri": "https://localhost:8080/"
        },
        "id": "7vvZqbeIgTs0",
        "outputId": "186afad4-619d-47e2-e042-48e3b20fa68c"
      },
      "execution_count": null,
      "outputs": [
        {
          "output_type": "stream",
          "name": "stdout",
          "text": [
            "Mounted at /content/drive\n"
          ]
        }
      ]
    },
    {
      "cell_type": "code",
      "source": [
        "import numpy as np\n",
        "import cv2\n",
        "import os\n",
        "import zipfile\n",
        "from sklearn.model_selection import train_test_split\n",
        "from tensorflow.keras.utils import to_categorical\n",
        "from tensorflow.keras.preprocessing.image import load_img, img_to_array\n",
        "\n",
        "\n",
        "data_dir = '/content/drive/MyDrive/MINI/ACRIMA'\n",
        "# Load the RIM-ONE dataset\n",
        "def load_images_and_labels(directory):\n",
        "    images = []\n",
        "    labels = []\n",
        "    for label in os.listdir(directory):\n",
        "        label_path = os.path.join(directory, label)\n",
        "        for image_filename in os.listdir(label_path):\n",
        "            img_path = os.path.join(label_path, image_filename)\n",
        "            try:\n",
        "                img = load_img(img_path, target_size=(224, 224))\n",
        "                img_array = img_to_array(img)\n",
        "                images.append(img_array)\n",
        "                if label.lower() == 'glaucoma':\n",
        "                    labels.append(1)  # 1 for glaucoma\n",
        "                else:\n",
        "                    labels.append(0)  # 0 for normal\n",
        "            except Exception as e:\n",
        "                print(f\"Failed to load {img_path}: {e}\")\n",
        "    return np.array(images), np.array(labels)\n",
        "\n",
        "\n",
        "train_dir = '/content/drive/MyDrive/MINI/ACRIMA/PARTITIONED/Training'\n",
        "test_dir = '/content/drive/MyDrive/MINI/ACRIMA/PARTITIONED/Testing'\n",
        "\n",
        "X_train_cnn2, y_train_cnn2 = load_images_and_labels(train_dir)\n",
        "X_test_cnn2, y_test_cnn2 = load_images_and_labels(test_dir)\n",
        "\n",
        "X_train_cnn2 = X_train_cnn2 / 255.0  # Normalize and add channel dimension\n",
        "X_test_cnn2 = X_test_cnn2 / 255.0\n",
        "\n",
        "# One-hot encode labels for CNN training\n",
        "y_train_cat2 = to_categorical(y_train_cnn2)"
      ],
      "metadata": {
        "colab": {
          "base_uri": "https://localhost:8080/"
        },
        "id": "MDgVa1SGgaPW",
        "outputId": "dbf02f81-0481-486d-d58e-a1a754301ae1"
      },
      "execution_count": null,
      "outputs": [
        {
          "output_type": "stream",
          "name": "stdout",
          "text": [
            "Failed to load /content/drive/MyDrive/MINI/ACRIMA/PARTITIONED/Training/glaucoma/desktop.ini: cannot identify image file <_io.BytesIO object at 0x7a5ff31bc3b0>\n",
            "Failed to load /content/drive/MyDrive/MINI/ACRIMA/PARTITIONED/Testing/glaucoma/desktop.ini: cannot identify image file <_io.BytesIO object at 0x7a5ff31faca0>\n"
          ]
        }
      ]
    },
    {
      "cell_type": "code",
      "source": [
        "from tensorflow.keras.models import Sequential, Model\n",
        "from tensorflow.keras.layers import Conv2D, MaxPooling2D, Flatten, Dense, Dropout\n",
        "from tensorflow.keras.optimizers import Adam\n",
        "\n",
        "# Define the CNN model\n",
        "cnn2 = Sequential([\n",
        "    Conv2D(32, (3, 3), activation='relu', input_shape=(224, 224, 3)),\n",
        "    MaxPooling2D((2, 2)),\n",
        "    Conv2D(64, (3, 3), activation='relu'),\n",
        "    MaxPooling2D((2, 2)),\n",
        "    Conv2D(128, (3, 3), activation='relu'),\n",
        "    MaxPooling2D((2, 2)),\n",
        "    Flatten(),\n",
        "    Dense(256, activation='relu'),\n",
        "    Dropout(0.5),\n",
        "    Dense(len(np.unique(y_train_cnn2)), activation='softmax')\n",
        "])\n",
        "\n",
        "cnn2.compile(optimizer=Adam(), loss='categorical_crossentropy', metrics=['accuracy'])\n",
        "cnn2.summary()\n",
        "\n",
        "# Train the CNN model\n",
        "hist2 = cnn2.fit(X_train_cnn2, y_train_cat2, epochs=25, batch_size=32, validation_split=0.2)"
      ],
      "metadata": {
        "colab": {
          "base_uri": "https://localhost:8080/"
        },
        "id": "26Sq354Bgl8u",
        "outputId": "988aeda8-9764-44fe-b2c0-08fdae0ce572"
      },
      "execution_count": null,
      "outputs": [
        {
          "output_type": "stream",
          "name": "stdout",
          "text": [
            "Model: \"sequential\"\n",
            "_________________________________________________________________\n",
            " Layer (type)                Output Shape              Param #   \n",
            "=================================================================\n",
            " conv2d (Conv2D)             (None, 222, 222, 32)      896       \n",
            "                                                                 \n",
            " max_pooling2d (MaxPooling2  (None, 111, 111, 32)      0         \n",
            " D)                                                              \n",
            "                                                                 \n",
            " conv2d_1 (Conv2D)           (None, 109, 109, 64)      18496     \n",
            "                                                                 \n",
            " max_pooling2d_1 (MaxPoolin  (None, 54, 54, 64)        0         \n",
            " g2D)                                                            \n",
            "                                                                 \n",
            " conv2d_2 (Conv2D)           (None, 52, 52, 128)       73856     \n",
            "                                                                 \n",
            " max_pooling2d_2 (MaxPoolin  (None, 26, 26, 128)       0         \n",
            " g2D)                                                            \n",
            "                                                                 \n",
            " flatten (Flatten)           (None, 86528)             0         \n",
            "                                                                 \n",
            " dense (Dense)               (None, 256)               22151424  \n",
            "                                                                 \n",
            " dropout (Dropout)           (None, 256)               0         \n",
            "                                                                 \n",
            " dense_1 (Dense)             (None, 2)                 514       \n",
            "                                                                 \n",
            "=================================================================\n",
            "Total params: 22245186 (84.86 MB)\n",
            "Trainable params: 22245186 (84.86 MB)\n",
            "Non-trainable params: 0 (0.00 Byte)\n",
            "_________________________________________________________________\n",
            "Epoch 1/25\n",
            "15/15 [==============================] - 67s 4s/step - loss: 1.0395 - accuracy: 0.6358 - val_loss: 1.2345 - val_accuracy: 0.2605\n",
            "Epoch 2/25\n",
            "15/15 [==============================] - 67s 5s/step - loss: 0.4870 - accuracy: 0.7684 - val_loss: 1.2035 - val_accuracy: 0.4958\n",
            "Epoch 3/25\n",
            "15/15 [==============================] - 63s 4s/step - loss: 0.3755 - accuracy: 0.8484 - val_loss: 0.3225 - val_accuracy: 0.8487\n",
            "Epoch 4/25\n",
            "15/15 [==============================] - 72s 5s/step - loss: 0.3099 - accuracy: 0.8779 - val_loss: 0.3219 - val_accuracy: 0.8235\n",
            "Epoch 5/25\n",
            "15/15 [==============================] - 64s 4s/step - loss: 0.3167 - accuracy: 0.8779 - val_loss: 0.2166 - val_accuracy: 0.8992\n",
            "Epoch 6/25\n",
            "15/15 [==============================] - 64s 4s/step - loss: 0.2629 - accuracy: 0.8947 - val_loss: 0.2686 - val_accuracy: 0.8403\n",
            "Epoch 7/25\n",
            "15/15 [==============================] - 71s 5s/step - loss: 0.2263 - accuracy: 0.9179 - val_loss: 0.2696 - val_accuracy: 0.8824\n",
            "Epoch 8/25\n",
            "15/15 [==============================] - 65s 4s/step - loss: 0.1823 - accuracy: 0.9326 - val_loss: 0.2599 - val_accuracy: 0.8992\n",
            "Epoch 9/25\n",
            "15/15 [==============================] - 67s 4s/step - loss: 0.1645 - accuracy: 0.9347 - val_loss: 0.2015 - val_accuracy: 0.9328\n",
            "Epoch 10/25\n",
            "15/15 [==============================] - 68s 4s/step - loss: 0.1405 - accuracy: 0.9516 - val_loss: 0.1211 - val_accuracy: 0.9580\n",
            "Epoch 11/25\n",
            "15/15 [==============================] - 73s 5s/step - loss: 0.1628 - accuracy: 0.9495 - val_loss: 0.2121 - val_accuracy: 0.9244\n",
            "Epoch 12/25\n",
            "15/15 [==============================] - 92s 6s/step - loss: 0.1237 - accuracy: 0.9537 - val_loss: 0.1143 - val_accuracy: 0.9664\n",
            "Epoch 13/25\n",
            "15/15 [==============================] - 76s 5s/step - loss: 0.1174 - accuracy: 0.9579 - val_loss: 0.1380 - val_accuracy: 0.9580\n",
            "Epoch 14/25\n",
            "15/15 [==============================] - 71s 5s/step - loss: 0.1789 - accuracy: 0.9242 - val_loss: 0.1442 - val_accuracy: 0.9664\n",
            "Epoch 15/25\n",
            "15/15 [==============================] - 75s 5s/step - loss: 0.1126 - accuracy: 0.9579 - val_loss: 0.0991 - val_accuracy: 0.9916\n",
            "Epoch 16/25\n",
            "15/15 [==============================] - 70s 5s/step - loss: 0.0991 - accuracy: 0.9579 - val_loss: 0.3063 - val_accuracy: 0.8992\n",
            "Epoch 17/25\n",
            "15/15 [==============================] - 76s 5s/step - loss: 0.1778 - accuracy: 0.9558 - val_loss: 0.2153 - val_accuracy: 0.9328\n",
            "Epoch 18/25\n",
            "15/15 [==============================] - 68s 5s/step - loss: 0.1593 - accuracy: 0.9389 - val_loss: 0.1328 - val_accuracy: 0.9412\n",
            "Epoch 19/25\n",
            "15/15 [==============================] - 75s 5s/step - loss: 0.1141 - accuracy: 0.9537 - val_loss: 0.0734 - val_accuracy: 0.9916\n",
            "Epoch 20/25\n",
            "15/15 [==============================] - 70s 5s/step - loss: 0.1120 - accuracy: 0.9642 - val_loss: 0.1259 - val_accuracy: 0.9664\n",
            "Epoch 21/25\n",
            "15/15 [==============================] - 78s 5s/step - loss: 0.0871 - accuracy: 0.9726 - val_loss: 0.0968 - val_accuracy: 0.9916\n",
            "Epoch 22/25\n",
            "15/15 [==============================] - 70s 5s/step - loss: 0.0773 - accuracy: 0.9747 - val_loss: 0.0892 - val_accuracy: 0.9832\n",
            "Epoch 23/25\n",
            "15/15 [==============================] - 70s 5s/step - loss: 0.0737 - accuracy: 0.9726 - val_loss: 0.0600 - val_accuracy: 0.9916\n",
            "Epoch 24/25\n",
            "15/15 [==============================] - 67s 5s/step - loss: 0.0562 - accuracy: 0.9874 - val_loss: 0.0754 - val_accuracy: 0.9832\n",
            "Epoch 25/25\n",
            "15/15 [==============================] - 65s 4s/step - loss: 0.0502 - accuracy: 0.9789 - val_loss: 0.1113 - val_accuracy: 0.9664\n"
          ]
        }
      ]
    },
    {
      "cell_type": "code",
      "source": [
        "cnn2.evaluate(X_test_cnn2, to_categorical(y_test_cnn2))\n",
        "print(\"Accuracy:\" + str(cnn2.evaluate(X_test_cnn2, to_categorical(y_test_cnn2))[1]))"
      ],
      "metadata": {
        "colab": {
          "base_uri": "https://localhost:8080/"
        },
        "id": "zRjn2uCxnmTv",
        "outputId": "0aa3c05d-b1a7-443a-ea67-93aa9762d311"
      },
      "execution_count": null,
      "outputs": [
        {
          "output_type": "stream",
          "name": "stdout",
          "text": [
            "5/5 [==============================] - 4s 842ms/step - loss: 0.2308 - accuracy: 0.9007\n",
            "5/5 [==============================] - 6s 1s/step - loss: 0.2308 - accuracy: 0.9007\n",
            "Accuracy:0.9007092118263245\n"
          ]
        }
      ]
    },
    {
      "cell_type": "code",
      "source": [
        "import numpy as np\n",
        "from tensorflow.keras.preprocessing.image import load_img, img_to_array\n",
        "\n",
        "# Load and preprocess the image\n",
        "img_path = \"/content/drive/MyDrive/MINI/ACRIMA/PARTITIONED/Testing/glaucoma/Im627_g_ACRIMA.jpg\"\n",
        "img = load_img(img_path, target_size=(224, 224))  # Load with the same target size as training\n",
        "img_array = img_to_array(img)\n",
        "img_array = img_array / 255.0  # Normalize\n",
        "img_array = np.expand_dims(img_array, axis=0)  # Add batch dimension\n",
        "\n",
        "# Make the prediction and get the class index\n",
        "prediction = cnn2.predict(img_array)\n",
        "predicted_class_index = np.argmax(prediction[0])  # Get index for the first (and only) image in the batch\n",
        "\n",
        "if predicted_class_index == 1:\n",
        "  print(\"Glaucoma\")\n",
        "else:\n",
        "  print(\"Normal\")"
      ],
      "metadata": {
        "colab": {
          "base_uri": "https://localhost:8080/"
        },
        "id": "LM09SkktqqjP",
        "outputId": "7cb8f224-21e9-4ab5-e944-7c236a81cd3b"
      },
      "execution_count": null,
      "outputs": [
        {
          "output_type": "stream",
          "name": "stdout",
          "text": [
            "1/1 [==============================] - 0s 193ms/step\n",
            "Glaucoma\n"
          ]
        }
      ]
    },
    {
      "cell_type": "code",
      "source": [
        "from matplotlib import pyplot as plt\n",
        "plt.plot(hist2.history['accuracy'])\n",
        "plt.plot(hist2.history['val_accuracy'])\n",
        "plt.title('Model Accuracy')\n",
        "plt.ylabel('Accuracy')\n",
        "plt.xlabel('Epoch')"
      ],
      "metadata": {
        "colab": {
          "base_uri": "https://localhost:8080/",
          "height": 490
        },
        "id": "-sKMatnDq86D",
        "outputId": "9118e25c-4486-44b4-b6de-636ee34566af"
      },
      "execution_count": null,
      "outputs": [
        {
          "output_type": "execute_result",
          "data": {
            "text/plain": [
              "Text(0.5, 0, 'Epoch')"
            ]
          },
          "metadata": {},
          "execution_count": 13
        },
        {
          "output_type": "display_data",
          "data": {
            "text/plain": [
              "<Figure size 640x480 with 1 Axes>"
            ],
            "image/png": "[encoded data removed]"
          },
          "metadata": {}
        }
      ]
    },
    {
      "cell_type": "code",
      "source": [
        "import numpy as np\n",
        "import cv2\n",
        "import os\n",
        "import zipfile\n",
        "from sklearn.model_selection import train_test_split\n",
        "from tensorflow.keras.utils import to_categorical\n",
        "from tensorflow.keras.preprocessing.image import load_img, img_to_array\n",
        "\n",
        "\n",
        "data_dir = '/content/drive/MyDrive/MINI/ACRIMA'\n",
        "# Load the RIM-ONE dataset\n",
        "def load_images_and_labels(directory):\n",
        "    images = []\n",
        "    labels = []\n",
        "    for label in os.listdir(directory):\n",
        "        label_path = os.path.join(directory, label)\n",
        "        for image_filename in os.listdir(label_path):\n",
        "            img_path = os.path.join(label_path, image_filename)\n",
        "            try:\n",
        "                img = load_img(img_path, target_size=(224, 224))\n",
        "                img_array = img_to_array(img)\n",
        "                images.append(img_array)\n",
        "                if label.lower() == 'glaucoma':\n",
        "                    labels.append(1)  # 1 for glaucoma\n",
        "                else:\n",
        "                    labels.append(0)  # 0 for normal\n",
        "            except Exception as e:\n",
        "                print(f\"Failed to load {img_path}: {e}\")\n",
        "    return np.array(images), np.array(labels)\n",
        "\n",
        "train_dir = '/content/drive/MyDrive/MINI/ACRIMA/PARTITIONED/Training'\n",
        "test_dir = '/content/drive/MyDrive/MINI/ACRIMA/PARTITIONED/Testing'\n",
        "\n",
        "X_train_lstm2, y_train_lstm2 = load_images_and_labels(train_dir)\n",
        "X_test_lstm2, y_test_lstm2 = load_images_and_labels(test_dir)\n",
        "\n",
        "X_train_lstm2 = X_train_lstm2 / 255.0  # Normalize and add channel dimension\n",
        "X_test_lstm2 = X_test_lstm2 / 255.0"
      ],
      "metadata": {
        "colab": {
          "base_uri": "https://localhost:8080/"
        },
        "id": "pvbmzNF1nt7i",
        "outputId": "9cdb5440-cf9a-4911-a981-688616961676"
      },
      "execution_count": null,
      "outputs": [
        {
          "output_type": "stream",
          "name": "stdout",
          "text": [
            "Failed to load /content/drive/MyDrive/MINI/ACRIMA/PARTITIONED/Training/glaucoma/desktop.ini: cannot identify image file <_io.BytesIO object at 0x7a5ff04d1580>\n",
            "Failed to load /content/drive/MyDrive/MINI/ACRIMA/PARTITIONED/Testing/glaucoma/desktop.ini: cannot identify image file <_io.BytesIO object at 0x7a5fdb2ff5b0>\n"
          ]
        }
      ]
    },
    {
      "cell_type": "code",
      "source": [
        "X_train_flattened2 = X_train_lstm2.reshape(X_train_lstm2.shape[0], X_train_lstm2.shape[1], -1)\n",
        "X_test_flattened2 = X_test_lstm2.reshape(X_test_lstm2.shape[0], X_test_lstm2.shape[1], -1)"
      ],
      "metadata": {
        "id": "emdMyNIZoWnw"
      },
      "execution_count": null,
      "outputs": []
    },
    {
      "cell_type": "code",
      "source": [
        "from tensorflow.keras.models import Sequential\n",
        "from tensorflow.keras.layers import Bidirectional, LSTM, Dense, Dropout\n",
        "\n",
        "# Build BiLSTM model\n",
        "model2 = Sequential([\n",
        "    Bidirectional(LSTM(64, return_sequences=True), input_shape=(X_train_flattened2.shape[1], X_train_flattened2.shape[2])),\n",
        "    Dropout(0.5),\n",
        "    LSTM(32),\n",
        "    Dropout(0.5),\n",
        "    Dense(1, activation='sigmoid')\n",
        "])\n",
        "\n",
        "# Compile the model\n",
        "model2.compile(optimizer='adam', loss='binary_crossentropy', metrics=['accuracy'])\n",
        "\n",
        "# Train the model\n",
        "history2 = model2.fit(X_train_flattened2, y_train_lstm2, epochs=25, batch_size=32, validation_data=(X_test_flattened2, y_test_lstm2))"
      ],
      "metadata": {
        "colab": {
          "base_uri": "https://localhost:8080/"
        },
        "id": "L7Br1_pjoaFc",
        "outputId": "075ecc72-10e6-49fe-cad4-d47cbff33e2e"
      },
      "execution_count": null,
      "outputs": [
        {
          "output_type": "stream",
          "name": "stdout",
          "text": [
            "Epoch 1/25\n",
            "19/19 [==============================] - 24s 925ms/step - loss: 0.6063 - accuracy: 0.6650 - val_loss: 0.5250 - val_accuracy: 0.7305\n",
            "Epoch 2/25\n",
            "19/19 [==============================] - 15s 760ms/step - loss: 0.4973 - accuracy: 0.7626 - val_loss: 0.5102 - val_accuracy: 0.7660\n",
            "Epoch 3/25\n",
            "19/19 [==============================] - 14s 714ms/step - loss: 0.4834 - accuracy: 0.7559 - val_loss: 0.4925 - val_accuracy: 0.7730\n",
            "Epoch 4/25\n",
            "19/19 [==============================] - 14s 730ms/step - loss: 0.4166 - accuracy: 0.8165 - val_loss: 0.4369 - val_accuracy: 0.7872\n",
            "Epoch 5/25\n",
            "19/19 [==============================] - 15s 782ms/step - loss: 0.3812 - accuracy: 0.8300 - val_loss: 0.4340 - val_accuracy: 0.8014\n",
            "Epoch 6/25\n",
            "19/19 [==============================] - 15s 770ms/step - loss: 0.3975 - accuracy: 0.8199 - val_loss: 0.3964 - val_accuracy: 0.8156\n",
            "Epoch 7/25\n",
            "19/19 [==============================] - 15s 798ms/step - loss: 0.4066 - accuracy: 0.8098 - val_loss: 0.4007 - val_accuracy: 0.8369\n",
            "Epoch 8/25\n",
            "19/19 [==============================] - 15s 797ms/step - loss: 0.4408 - accuracy: 0.7929 - val_loss: 0.4607 - val_accuracy: 0.7518\n",
            "Epoch 9/25\n",
            "19/19 [==============================] - 16s 855ms/step - loss: 0.4161 - accuracy: 0.7963 - val_loss: 0.4441 - val_accuracy: 0.8156\n",
            "Epoch 10/25\n",
            "19/19 [==============================] - 16s 853ms/step - loss: 0.3967 - accuracy: 0.8249 - val_loss: 0.4236 - val_accuracy: 0.8227\n",
            "Epoch 11/25\n",
            "19/19 [==============================] - 16s 867ms/step - loss: 0.3918 - accuracy: 0.8098 - val_loss: 0.4371 - val_accuracy: 0.7872\n",
            "Epoch 12/25\n",
            "19/19 [==============================] - 16s 865ms/step - loss: 0.3545 - accuracy: 0.8384 - val_loss: 0.4178 - val_accuracy: 0.8085\n",
            "Epoch 13/25\n",
            "19/19 [==============================] - 18s 963ms/step - loss: 0.3284 - accuracy: 0.8552 - val_loss: 0.4120 - val_accuracy: 0.8156\n",
            "Epoch 14/25\n",
            "19/19 [==============================] - 17s 897ms/step - loss: 0.3200 - accuracy: 0.8586 - val_loss: 0.4991 - val_accuracy: 0.7305\n",
            "Epoch 15/25\n",
            "19/19 [==============================] - 22s 1s/step - loss: 0.3478 - accuracy: 0.8418 - val_loss: 0.3750 - val_accuracy: 0.7801\n",
            "Epoch 16/25\n",
            "19/19 [==============================] - 17s 907ms/step - loss: 0.3127 - accuracy: 0.8451 - val_loss: 0.3329 - val_accuracy: 0.8085\n",
            "Epoch 17/25\n",
            "19/19 [==============================] - 18s 933ms/step - loss: 0.3225 - accuracy: 0.8451 - val_loss: 0.3727 - val_accuracy: 0.8369\n",
            "Epoch 18/25\n",
            "19/19 [==============================] - 20s 1s/step - loss: 0.3134 - accuracy: 0.8485 - val_loss: 0.5052 - val_accuracy: 0.8014\n",
            "Epoch 19/25\n",
            "19/19 [==============================] - 19s 939ms/step - loss: 0.4180 - accuracy: 0.8047 - val_loss: 0.3328 - val_accuracy: 0.8582\n",
            "Epoch 20/25\n",
            "19/19 [==============================] - 17s 899ms/step - loss: 0.3086 - accuracy: 0.8485 - val_loss: 0.3540 - val_accuracy: 0.7801\n",
            "Epoch 21/25\n",
            "19/19 [==============================] - 16s 851ms/step - loss: 0.3357 - accuracy: 0.8418 - val_loss: 0.3292 - val_accuracy: 0.8723\n",
            "Epoch 22/25\n",
            "19/19 [==============================] - 16s 843ms/step - loss: 0.3624 - accuracy: 0.8569 - val_loss: 0.4273 - val_accuracy: 0.8511\n",
            "Epoch 23/25\n",
            "19/19 [==============================] - 15s 822ms/step - loss: 0.3713 - accuracy: 0.8148 - val_loss: 0.3815 - val_accuracy: 0.8511\n",
            "Epoch 24/25\n",
            "19/19 [==============================] - 15s 812ms/step - loss: 0.3326 - accuracy: 0.8670 - val_loss: 0.3891 - val_accuracy: 0.8440\n",
            "Epoch 25/25\n",
            "19/19 [==============================] - 16s 838ms/step - loss: 0.3062 - accuracy: 0.8468 - val_loss: 0.3710 - val_accuracy: 0.8369\n"
          ]
        }
      ]
    },
    {
      "cell_type": "code",
      "source": [
        "model2.evaluate(X_test_flattened2, y_test_lstm2)\n",
        "print(\"Accuracy:\" + str(model2.evaluate(X_test_flattened2, y_test_lstm2)[1]))"
      ],
      "metadata": {
        "colab": {
          "base_uri": "https://localhost:8080/"
        },
        "id": "CWennnTwquzY",
        "outputId": "a4a000bb-2f3c-498a-8528-7db0ec12e900"
      },
      "execution_count": null,
      "outputs": [
        {
          "output_type": "stream",
          "name": "stdout",
          "text": [
            "5/5 [==============================] - 1s 189ms/step - loss: 0.3710 - accuracy: 0.8369\n",
            "5/5 [==============================] - 1s 187ms/step - loss: 0.3710 - accuracy: 0.8369\n",
            "Accuracy:0.8368794322013855\n"
          ]
        }
      ]
    },
    {
      "cell_type": "code",
      "source": [
        "# Load and preprocess the image\n",
        "img_path = \"/content/drive/MyDrive/MINI/ACRIMA/PARTITIONED/Testing/glaucoma/Im627_g_ACRIMA.jpg\"\n",
        "img = load_img(img_path, target_size=(224, 224))  # Load image with the same target size as training\n",
        "img_array = img_to_array(img)\n",
        "img_array = img_array / 255.0  # Normalize\n",
        "img_array = img_array.reshape(1, 224, -1)  # Reshape to match model input\n",
        "\n",
        "# Make the prediction\n",
        "prediction = model2.predict(img_array)\n",
        "\n",
        "# Interpret the prediction (assuming binary classification)\n",
        "if prediction > 0.5:\n",
        "  print(\"Glaucoma\")\n",
        "else:\n",
        "  print(\"Normal\")"
      ],
      "metadata": {
        "colab": {
          "base_uri": "https://localhost:8080/"
        },
        "id": "i5UzvCWVsz0l",
        "outputId": "cc766172-1d9e-49a5-9217-d61ce72fe2f0"
      },
      "execution_count": null,
      "outputs": [
        {
          "output_type": "stream",
          "name": "stdout",
          "text": [
            "1/1 [==============================] - 0s 75ms/step\n",
            "Glaucoma\n"
          ]
        }
      ]
    },
    {
      "cell_type": "code",
      "source": [
        "from matplotlib import pyplot as plt\n",
        "plt.plot(history2.history['accuracy'])\n",
        "plt.plot(history2.history['val_accuracy'])\n",
        "plt.title('Model Accuracy')\n",
        "plt.ylabel('Accuracy')\n",
        "plt.xlabel('Epoch')"
      ],
      "metadata": {
        "colab": {
          "base_uri": "https://localhost:8080/",
          "height": 490
        },
        "id": "6qr1Sj31q28N",
        "outputId": "feef2a6b-2c0c-4686-92d9-09cb0eb32642"
      },
      "execution_count": null,
      "outputs": [
        {
          "output_type": "execute_result",
          "data": {
            "text/plain": [
              "Text(0.5, 0, 'Epoch')"
            ]
          },
          "metadata": {},
          "execution_count": 14
        },
        {
          "output_type": "display_data",
          "data": {
            "text/plain": [
              "<Figure size 640x480 with 1 Axes>"
            ],
            "image/png": "[encoded data removed]"
          },
          "metadata": {}
        }
      ]
    },
    {
      "cell_type": "code",
      "source": [
        "from tensorflow.keras.layers import Concatenate\n",
        "\n",
        "# Combine the outputs of the two models\n",
        "combined_input2 = Concatenate()([cnn2.output, model2.output])\n",
        "\n",
        "# Add a dense layer for the final classification\n",
        "x2 = Dense(64, activation='relu')(combined_input2)\n",
        "x2 = Dense(1, activation='sigmoid')(x2)\n",
        "\n",
        "# Final hybrid model\n",
        "\n",
        "\n",
        "hybrid_model2 = Model(inputs=[cnn2.input, model2.input], outputs=x2)\n",
        "hybrid_model2.compile(optimizer='adam', loss='binary_crossentropy', metrics=['accuracy'])\n",
        "result = hybrid_model2.fit([X_train_cnn2, X_train_flattened2], y_train_cnn2, epochs=19, batch_size=32, validation_data=([X_test_cnn2, X_test_flattened2], y_test_cnn2))"
      ],
      "metadata": {
        "colab": {
          "base_uri": "https://localhost:8080/"
        },
        "id": "1cLd2EI6s3l9",
        "outputId": "5c5314b6-8131-4eb1-e898-3ee5bc0a0aab"
      },
      "execution_count": null,
      "outputs": [
        {
          "output_type": "stream",
          "name": "stdout",
          "text": [
            "Epoch 1/19\n",
            "19/19 [==============================] - 116s 6s/step - loss: 0.6783 - accuracy: 0.5387 - val_loss: 0.6516 - val_accuracy: 0.5603\n",
            "Epoch 2/19\n",
            "19/19 [==============================] - 107s 6s/step - loss: 0.6470 - accuracy: 0.5505 - val_loss: 0.6224 - val_accuracy: 0.5603\n",
            "Epoch 3/19\n",
            "19/19 [==============================] - 100s 5s/step - loss: 0.6133 - accuracy: 0.6077 - val_loss: 0.5995 - val_accuracy: 0.8156\n",
            "Epoch 4/19\n",
            "19/19 [==============================] - 101s 5s/step - loss: 0.5874 - accuracy: 0.8030 - val_loss: 0.5789 - val_accuracy: 0.7943\n",
            "Epoch 5/19\n",
            "19/19 [==============================] - 107s 6s/step - loss: 0.5656 - accuracy: 0.8081 - val_loss: 0.6218 - val_accuracy: 0.6383\n",
            "Epoch 6/19\n",
            "19/19 [==============================] - 106s 6s/step - loss: 0.5830 - accuracy: 0.7306 - val_loss: 0.5725 - val_accuracy: 0.7234\n",
            "Epoch 7/19\n",
            "19/19 [==============================] - 105s 5s/step - loss: 0.5378 - accuracy: 0.8047 - val_loss: 0.5635 - val_accuracy: 0.7518\n",
            "Epoch 8/19\n",
            "19/19 [==============================] - 100s 5s/step - loss: 0.5106 - accuracy: 0.8367 - val_loss: 0.5498 - val_accuracy: 0.7447\n",
            "Epoch 9/19\n",
            "19/19 [==============================] - 102s 5s/step - loss: 0.4856 - accuracy: 0.8333 - val_loss: 0.5263 - val_accuracy: 0.7801\n",
            "Epoch 10/19\n",
            "19/19 [==============================] - 103s 5s/step - loss: 0.5716 - accuracy: 0.7189 - val_loss: 0.6855 - val_accuracy: 0.5461\n",
            "Epoch 11/19\n",
            "19/19 [==============================] - 104s 5s/step - loss: 0.4838 - accuracy: 0.8081 - val_loss: 0.5075 - val_accuracy: 0.7589\n",
            "Epoch 12/19\n",
            "19/19 [==============================] - 100s 5s/step - loss: 0.4458 - accuracy: 0.8401 - val_loss: 0.4799 - val_accuracy: 0.7943\n",
            "Epoch 13/19\n",
            "19/19 [==============================] - 97s 5s/step - loss: 0.4275 - accuracy: 0.8451 - val_loss: 0.4546 - val_accuracy: 0.8085\n",
            "Epoch 14/19\n",
            "19/19 [==============================] - 95s 5s/step - loss: 0.4494 - accuracy: 0.8165 - val_loss: 0.4457 - val_accuracy: 0.8156\n",
            "Epoch 15/19\n",
            "19/19 [==============================] - 97s 5s/step - loss: 0.4175 - accuracy: 0.8316 - val_loss: 0.4759 - val_accuracy: 0.7730\n",
            "Epoch 16/19\n",
            "19/19 [==============================] - 96s 5s/step - loss: 0.4518 - accuracy: 0.8114 - val_loss: 0.6783 - val_accuracy: 0.5957\n",
            "Epoch 17/19\n",
            "19/19 [==============================] - 97s 5s/step - loss: 0.4380 - accuracy: 0.8165 - val_loss: 0.4514 - val_accuracy: 0.7943\n",
            "Epoch 18/19\n",
            "19/19 [==============================] - 104s 6s/step - loss: 0.3937 - accuracy: 0.8434 - val_loss: 0.4739 - val_accuracy: 0.7730\n",
            "Epoch 19/19\n",
            "19/19 [==============================] - 107s 6s/step - loss: 0.3751 - accuracy: 0.8418 - val_loss: 0.4157 - val_accuracy: 0.8085\n"
          ]
        }
      ]
    },
    {
      "cell_type": "code",
      "source": [
        "print(\"Accuracy:\", result.history['accuracy'][-1])\n",
        "print(\"Loss:\", result.history['loss'][-1])"
      ],
      "metadata": {
        "colab": {
          "base_uri": "https://localhost:8080/"
        },
        "id": "4cFY6PA9w4ud",
        "outputId": "c0e4b58b-cbbd-45e4-ea97-3b365a655a04"
      },
      "execution_count": null,
      "outputs": [
        {
          "output_type": "stream",
          "name": "stdout",
          "text": [
            "Accuracy: 0.8417508602142334\n",
            "Loss: 0.3751096725463867\n"
          ]
        }
      ]
    },
    {
      "cell_type": "code",
      "source": [
        "hybrid_model2.save('hybrid_model.h5')"
      ],
      "metadata": {
        "colab": {
          "base_uri": "https://localhost:8080/"
        },
        "id": "VtNCCAo25R75",
        "outputId": "6f9ea3a1-b6ba-4302-be5e-1798c4f135e3"
      },
      "execution_count": null,
      "outputs": [
        {
          "output_type": "stream",
          "name": "stderr",
          "text": [
            "/usr/local/lib/python3.10/dist-packages/keras/src/engine/training.py:3103: UserWarning: You are saving your model as an HDF5 file via `model.save()`. This file format is considered legacy. We recommend using instead the native Keras format, e.g. `model.save('my_model.keras')`.\n",
            "  saving_api.save_model(\n"
          ]
        }
      ]
    },
    {
      "cell_type": "code",
      "source": [
        "from matplotlib import pyplot as plt\n",
        "plt.plot(result.history['accuracy'])\n",
        "plt.plot(result.history['val_accuracy'])\n",
        "plt.title('Model Accuracy')\n",
        "plt.ylabel('Accuracy')\n",
        "plt.xlabel('Epoch')"
      ],
      "metadata": {
        "colab": {
          "base_uri": "https://localhost:8080/",
          "height": 490
        },
        "id": "lbakyn9_5NoQ",
        "outputId": "9203e986-7e96-4e52-ee28-6077449a8244"
      },
      "execution_count": null,
      "outputs": [
        {
          "output_type": "execute_result",
          "data": {
            "text/plain": [
              "Text(0.5, 0, 'Epoch')"
            ]
          },
          "metadata": {},
          "execution_count": 32
        },
        {
          "output_type": "display_data",
          "data": {
            "text/plain": [
              "<Figure size 640x480 with 1 Axes>"
            ],
            "image/png": "[encoded data removed]"
          },
          "metadata": {}
        }
      ]
    },
    {
      "cell_type": "code",
      "source": [
        "import numpy as np\n",
        "from tensorflow.keras.preprocessing import image\n",
        "\n",
        "# Load and preprocess the image\n",
        "img_path = \"/content/drive/MyDrive/MINI/ACRIMA/PARTITIONED/Testing/glaucoma/Im627_g_ACRIMA.jpg\"\n",
        "img = image.load_img(img_path, target_size=(224, 224))\n",
        "img_array = image.img_to_array(img)\n",
        "img_array = np.expand_dims(img_array, axis=0)  # Add batch dimension\n",
        "def preprocess_for_cnn(img_array):\n",
        "    img_array = img_array / 255.0  # Normalize\n",
        "    return img_array\n",
        "def preprocess_for_other_model(img_array):\n",
        "    img_array = img_array.reshape(1, 224, -1)  # Reshape to match model input\n",
        "    return img_array\n",
        "\n",
        "img_array_cnn = preprocess_for_cnn(img_array)  # Replace preprocess_for_cnn with your preprocessing function for the CNN branch\n",
        "img_array_flattened = preprocess_for_other_model(img_array)  # Replace preprocess_for_other_model with your preprocessing function for the other branch\n",
        "\n",
        "# Make the prediction\n",
        "prediction = hybrid_model2.predict([img_array_cnn, img_array_flattened])\n",
        "\n",
        "if prediction > 0.5:\n",
        "  print(\"Glaucoma\")\n",
        "else:\n",
        "  print(\"Normal\")"
      ],
      "metadata": {
        "colab": {
          "base_uri": "https://localhost:8080/"
        },
        "id": "MmEO4TSu4TCD",
        "outputId": "70dff456-b76d-4f3f-8ddc-d63612e14e96"
      },
      "execution_count": null,
      "outputs": [
        {
          "output_type": "stream",
          "name": "stdout",
          "text": [
            "1/1 [==============================] - 2s 2s/step\n",
            "Glaucoma\n"
          ]
        }
      ]
    },
    {
      "cell_type": "code",
      "source": [],
      "metadata": {
        "id": "hJ4X8lyK6EaE"
      },
      "execution_count": null,
      "outputs": []
    }
  ],
  "metadata": {
    "colab": {
      "provenance": []
    },
    "kernelspec": {
      "display_name": "Python 3",
      "name": "python3"
    }
  },
  "nbformat": 4,
  "nbformat_minor": 0
}